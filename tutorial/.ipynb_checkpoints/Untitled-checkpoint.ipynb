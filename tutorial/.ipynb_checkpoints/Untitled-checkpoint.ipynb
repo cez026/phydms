{
 "cells": [
  {
   "cell_type": "code",
   "execution_count": 6,
   "metadata": {
    "collapsed": false
   },
   "outputs": [
    {
     "name": "stdout",
     "output_type": "stream",
     "text": [
      "usage: phydms [-h] [--brlen {scale,optimize}] [--gammaomega] [--fitphi]\r\n",
      "              [--omegabysite] [--omegabysite_fixsyn] [--randprefs]\r\n",
      "              [--avgprefs] [--divpressure DIVPRESSURE] [--ncpus NCPUS]\r\n",
      "              [--ncats NCATS] [--minbrlen MINBRLEN] [--minpref MINPREF]\r\n",
      "              [--seed SEED] [--profile] [-v]\r\n",
      "              alignment tree model outprefix\r\n",
      "\r\n",
      "Phylogenetic analysis informed by deep mutational scanning data. The 'phydms'\r\n",
      "package is written by the Bloom lab (see\r\n",
      "https://github.com/jbloomlab/phydms/contributors). Version 2.0.dev0. Full\r\n",
      "documentation at http://jbloomlab.github.io/phydms\r\n",
      "\r\n",
      "positional arguments:\r\n",
      "  alignment             Existing FASTA file with aligned codon sequences.\r\n",
      "  tree                  Existing Newick file giving input tree.\r\n",
      "  model                 Substitution model: ExpCM_<prefsfile> or YNGKP_<m>\r\n",
      "                        (where <m> is M0, M5). For ExpCM, <prefsfile> has\r\n",
      "                        first column labeled 'site' and others labeled by\r\n",
      "                        1-letter amino-acid code.\r\n",
      "  outprefix             Output file prefix.\r\n",
      "\r\n"
     ]
    }
   ],
   "source": [
    "!phydms -h | head -n 21"
   ]
  },
  {
   "cell_type": "markdown",
   "metadata": {},
   "source": [
    "Due to deep sequencing's inability to exhaustively sample every molecule in the deep mutational scanning library, it is advisable to infer the site-specific amino-acid preferences rather than taking the raw ratio of the mutation frequencies pre-and post-selection. We recommend using the algorithm from [Bloom, 2015](http://download.springer.com/static/pdf/476/art%253A10.1186%252Fs12859-015-0590-4.pdf?originUrl=http%3A%2F%2Fbmcbioinformatics.biomedcentral.com%2Farticle%2F10.1186%2Fs12859-015-0590-4&token2=exp=1488328740~acl=%2Fstatic%2Fpdf%2F476%2Fart%25253A10.1186%25252Fs12859-015-0590-4.pdf*~hmac=26e1bd9961fe648505639b04cc4181262e5ad5f94caa9c4013babd1b8b8f0cd2) implemented in [`dms_tools`](http://jbloomlab.github.io/dms_tools/index.html) program [`dms_inferprefs`](http://jbloomlab.github.io/dms_tools/dms_inferprefs.html#dms-inferprefs).   \n",
    "\n",
    "Briefly, we describe the relationship the frequency of codon $x$ at protein-site $r$ per-selection ($f_{r,x}$) and post-selection ($\\mu_{r,x}$) to the site-specific amino-acid preference of codon $x$ at site $r$ ($\\pi_{r,x}$) as $f_{r,x} = \\frac{\\mu_{r,x} \\times \\pi_{r,x}}{\\sum_{y}\\mu_{r,y} \\times \\pi_{r,y} }$.  Since $f_{r,x}$ and $\\mu_{r,x}$ can be estimated from the deep sequencing data, we can infer the preferences ($\\pi_{r,x}$) using **MCMC**. "
   ]
  },
  {
   "cell_type": "code",
   "execution_count": null,
   "metadata": {
    "collapsed": true
   },
   "outputs": [],
   "source": []
  }
 ],
 "metadata": {
  "kernelspec": {
   "display_name": "Python 3",
   "language": "python",
   "name": "python3"
  },
  "language_info": {
   "codemirror_mode": {
    "name": "ipython",
    "version": 3
   },
   "file_extension": ".py",
   "mimetype": "text/x-python",
   "name": "python",
   "nbconvert_exporter": "python",
   "pygments_lexer": "ipython3",
   "version": "3.5.2"
  }
 },
 "nbformat": 4,
 "nbformat_minor": 2
}
